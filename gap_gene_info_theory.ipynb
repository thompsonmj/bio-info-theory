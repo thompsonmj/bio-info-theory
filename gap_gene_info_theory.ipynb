{
 "cells": [
  {
   "cell_type": "markdown",
   "metadata": {},
   "source": [
    "# Set Up the Data\n",
    "When this Binder environment was initialized, the supplemental data from [Optimal Decoding of Cellular Identities in a Genetic Network](https://doi.org/10.1016/j.cell.2019.01.007) is downloaded, and its extracted contents appear in the `Data` directory. \n",
    "\n",
    "For now, we are interested in the wild-type gap gene data in `Data/Data/Gap/gap_data_raw_dorsal_wt.mat`. This contains semi-quantitative raw data of the four gap genes (Hb, Kr, Kni, and Gt) during nuclear cycle 14 in 102 drosophila embryos. It is stored as a MATLAB struct array. This is a somewhat complex data structure with no convenient parallel in Python, so we will spend a moment exploring how to access its contents."
   ]
  },
  {
   "cell_type": "code",
   "execution_count": 1,
   "metadata": {},
   "outputs": [],
   "source": [
    "%matplotlib inline\n",
    "import scipy.io\n",
    "import matplotlib.pyplot as plt\n",
    "import numpy as np\n",
    "#mat = scipy.io.loadmat('Data/Data/Gap/gap_data_raw_dorsal_wt.mat')\n",
    "mat = scipy.io.loadmat('gap_data_raw_dorsal_wt.mat')"
   ]
  },
  {
   "cell_type": "markdown",
   "metadata": {},
   "source": [
    "Let's see how this data is formatted ..."
   ]
  },
  {
   "cell_type": "code",
   "execution_count": 2,
   "metadata": {},
   "outputs": [
    {
     "data": {
      "text/plain": [
       "dict"
      ]
     },
     "execution_count": 2,
     "metadata": {},
     "output_type": "execute_result"
    }
   ],
   "source": [
    "type(mat)"
   ]
  },
  {
   "cell_type": "markdown",
   "metadata": {},
   "source": [
    "It's loaded as a dict, so let's see what it contains.\n"
   ]
  },
  {
   "cell_type": "code",
   "execution_count": 3,
   "metadata": {},
   "outputs": [
    {
     "data": {
      "text/plain": [
       "dict_keys(['__header__', '__version__', '__globals__', 'data'])"
      ]
     },
     "execution_count": 3,
     "metadata": {},
     "output_type": "execute_result"
    }
   ],
   "source": [
    "mat.keys()"
   ]
  },
  {
   "cell_type": "markdown",
   "metadata": {},
   "source": [
    "The `'__header__'`, `'__version__'`, and `'__globals__'` keys are unimportant metadata. Let's see what is inside `'data'`.\n"
   ]
  },
  {
   "cell_type": "code",
   "execution_count": 4,
   "metadata": {},
   "outputs": [
    {
     "data": {
      "text/plain": [
       "numpy.ndarray"
      ]
     },
     "execution_count": 4,
     "metadata": {},
     "output_type": "execute_result"
    }
   ],
   "source": [
    "type(mat['data'])"
   ]
  },
  {
   "cell_type": "markdown",
   "metadata": {},
   "source": [
    "It's a [`numpy.ndarray`](https://numpy.org/doc/stable/reference/generated/numpy.ndarray.html) object, so we can use those attributes to explore what's inside. Let's start with [`dtype`](https://numpy.org/doc/stable/reference/generated/numpy.dtype.html#numpy.dtype) and its attributes to get a better idea of the contents."
   ]
  },
  {
   "cell_type": "code",
   "execution_count": 5,
   "metadata": {},
   "outputs": [
    {
     "data": {
      "text/plain": [
       "dtype([('index', 'O'), ('orient', 'O'), ('dist', 'O'), ('age', 'O'), ('genotype', 'O'), ('Kni', 'O'), ('Kr', 'O'), ('Gt', 'O'), ('Hb', 'O')])"
      ]
     },
     "execution_count": 5,
     "metadata": {},
     "output_type": "execute_result"
    }
   ],
   "source": [
    "mat['data'].dtype\n",
    "# 'Kni', 'Kr', 'Gt', 'Hb'"
   ]
  },
  {
   "cell_type": "markdown",
   "metadata": {},
   "source": [
    "This indicates there are multiple objects (`'O'`) within the `mat['data']` `numpy.ndarray` object. The readme file associated with the data states: \n",
    "\n",
    ">DATA DESCRIPTION:\n",
    ">\n",
    "Every .mat file contains a data structure with the following fields: \n",
    ">\n",
    ".index = embryo # on the slide (for internal purposes) \n",
    ".orient = 1 or 2, corresponding to dorsal and ventral orientation, respectively. \n",
    ".dist = depth of the furrow canal, in microns\n",
    ".age =  embryo age in minutes after the start of nc14\n",
    ".gene_name  =  raw fluorescence gene expression profiles taken along the dorsal side of the embryo.\n",
    "Each profile vector is of length 1000 pixels, where 0 corresponds to the anterior (A) and 1000 to the posterior (P) of the embryo.   "
   ]
  },
  {
   "cell_type": "code",
   "execution_count": 6,
   "metadata": {},
   "outputs": [
    {
     "data": {
      "text/plain": [
       "numpy.ndarray"
      ]
     },
     "execution_count": 6,
     "metadata": {},
     "output_type": "execute_result"
    }
   ],
   "source": [
    "type(mat['data']['Kni'])"
   ]
  },
  {
   "cell_type": "code",
   "execution_count": 7,
   "metadata": {},
   "outputs": [
    {
     "data": {
      "text/plain": [
       "(1, 102)"
      ]
     },
     "execution_count": 7,
     "metadata": {},
     "output_type": "execute_result"
    }
   ],
   "source": [
    "mat['data']['Kni'].shape"
   ]
  },
  {
   "cell_type": "code",
   "execution_count": 8,
   "metadata": {},
   "outputs": [
    {
     "data": {
      "text/plain": [
       "numpy.ndarray"
      ]
     },
     "execution_count": 8,
     "metadata": {},
     "output_type": "execute_result"
    }
   ],
   "source": [
    "type(mat['data']['Kni'][0])"
   ]
  },
  {
   "cell_type": "code",
   "execution_count": 9,
   "metadata": {},
   "outputs": [
    {
     "data": {
      "text/plain": [
       "(102,)"
      ]
     },
     "execution_count": 9,
     "metadata": {},
     "output_type": "execute_result"
    }
   ],
   "source": [
    "mat['data']['Kni'][0].shape"
   ]
  },
  {
   "cell_type": "code",
   "execution_count": 10,
   "metadata": {},
   "outputs": [
    {
     "data": {
      "text/plain": [
       "numpy.ndarray"
      ]
     },
     "execution_count": 10,
     "metadata": {},
     "output_type": "execute_result"
    }
   ],
   "source": [
    "type(mat['data']['Kni'][0][0])"
   ]
  },
  {
   "cell_type": "code",
   "execution_count": 11,
   "metadata": {},
   "outputs": [
    {
     "data": {
      "text/plain": [
       "(1, 1000)"
      ]
     },
     "execution_count": 11,
     "metadata": {},
     "output_type": "execute_result"
    }
   ],
   "source": [
    "mat['data']['Kni'][0][0].shape"
   ]
  },
  {
   "cell_type": "code",
   "execution_count": 12,
   "metadata": {},
   "outputs": [
    {
     "data": {
      "text/plain": [
       "numpy.ndarray"
      ]
     },
     "execution_count": 12,
     "metadata": {},
     "output_type": "execute_result"
    }
   ],
   "source": [
    "type(mat['data']['Kni'][0][0][0])"
   ]
  },
  {
   "cell_type": "code",
   "execution_count": 13,
   "metadata": {},
   "outputs": [
    {
     "data": {
      "text/plain": [
       "(1000,)"
      ]
     },
     "execution_count": 13,
     "metadata": {},
     "output_type": "execute_result"
    }
   ],
   "source": [
    "mat['data']['Kni'][0][0][0].shape"
   ]
  },
  {
   "cell_type": "code",
   "execution_count": 14,
   "metadata": {},
   "outputs": [
    {
     "data": {
      "text/plain": [
       "numpy.float64"
      ]
     },
     "execution_count": 14,
     "metadata": {},
     "output_type": "execute_result"
    }
   ],
   "source": [
    "type(mat['data']['Kni'][0][0][0][0])"
   ]
  },
  {
   "cell_type": "markdown",
   "metadata": {},
   "source": [
    "This shows that each data point is part of a 1000-pixel-long profile, of which there are 102 for each gene, as described in the readme file. We can extract this into a more useable format through a nested [list comprehension](https://docs.python.org/3/tutorial/datastructures.html#list-comprehensions)."
   ]
  },
  {
   "cell_type": "code",
   "execution_count": 15,
   "metadata": {},
   "outputs": [
    {
     "data": {
      "text/plain": [
       "(1000, 102, 4)"
      ]
     },
     "execution_count": 15,
     "metadata": {},
     "output_type": "execute_result"
    }
   ],
   "source": [
    "kni_raw = [pixel for profile in mat['data']['Kni'][0][:] for pixel in profile]\n",
    "kr_raw = [pixel for profile in mat['data']['Kr'][0][:] for pixel in profile]\n",
    "gt_raw = [pixel for profile in mat['data']['Gt'][0][:] for pixel in profile]\n",
    "hb_raw = [pixel for profile in mat['data']['Hb'][0][:] for pixel in profile]\n",
    "\n",
    "raw_data = np.transpose(np.array([kni_raw, kr_raw, gt_raw, hb_raw]))\n",
    "raw_data.shape"
   ]
  },
  {
   "cell_type": "markdown",
   "metadata": {},
   "source": [
    "This array now has the demensions pixels x embryos x genes.\n",
    "\n",
    "Authors' description of the data: \n",
    ">Each profile vector is of length 1000\n",
    "pixels, where 0 corresponds to the anterior (A) and 1000 to the posterior (P) of the embryo.\n",
    "\n",
    "To mitigate 'edge effects,' we extract only the middle 80% of the data to use throughout the analysis.\n",
    "\n",
    "We will also use only a fraction of the embryos for illustration to speed up the calculations."
   ]
  },
  {
   "cell_type": "code",
   "execution_count": 16,
   "metadata": {},
   "outputs": [],
   "source": [
    "from anchormean0to1 import *\n",
    "from aligny import *\n",
    "from alignxy import *\n",
    "\n",
    "(n_pixels, n_embryos, n_genes) = raw_data.shape\n",
    "\n",
    "# Use a subset to speed examples.\n",
    "n_embryos_used = round(n_embryos/10) \n",
    "idcs = np.sort(np.random.permutation(np.random.randint(1, n_embryos,size=n_embryos_used)))\n",
    "Y_raw = raw_data.astype(float)\n",
    "\n",
    "# Restrict profiles to middle 80%\n",
    "x = (np.arange(1/n_pixels, 1, 1/n_pixels)) \n",
    "idx_low = int(np.dot(round(n_pixels),0.1))\n",
    "idx_high = int(np.dot(round(n_pixels),0.9))\n",
    "x = x[idx_low:idx_high]\n",
    "\n",
    "Y_raw = Y_raw[idx_low:idx_high,idcs,:]\n",
    "####pad_size = round((n_pixels*0.1))\n",
    "####Y_raw = np.pad(Y_raw,[(pad_size,pad_size),(0,0),(0,0)],mode='constant', constant_values=(np.nan))\n"
   ]
  },
  {
   "cell_type": "code",
   "execution_count": 130,
   "metadata": {},
   "outputs": [
    {
     "data": {
      "text/plain": [
       "[<matplotlib.lines.Line2D at 0x2b248da04860>,\n",
       " <matplotlib.lines.Line2D at 0x2b248da049b0>,\n",
       " <matplotlib.lines.Line2D at 0x2b248da04b00>,\n",
       " <matplotlib.lines.Line2D at 0x2b248da04c50>]"
      ]
     },
     "execution_count": 130,
     "metadata": {},
     "output_type": "execute_result"
    },
    {
     "data": {
      "image/png": "[encoded data removed]",
      "text/plain": [
       "<matplotlib.figure.Figure at 0x2b248d9817b8>"
      ]
     },
     "metadata": {},
     "output_type": "display_data"
    }
   ],
   "source": [
    "def anchormean0to1(Y):\n",
    "    \n",
    "    \"\"\"Anchor the mean of a profile set from 0 to 1.\n",
    "    \n",
    "    Input:\n",
    "      > Y: profiles to anchor (nPts x nSamples x nTargets).\n",
    "    \n",
    "    Output:\n",
    "      > Y_anchor: profiles scaled such that the mean ranges from 0 to 1.\n",
    "      > Y_mean: mean profile, min = 0 and max = 1.\n",
    "    \"\"\"\n",
    "    \n",
    "    \n",
    "    Y_mean = np.nanmean(Y,axis=1)\n",
    "    Y_anchor = ((Y - np.nanmin(Y_mean,axis=0))/((np.nanmax(Y_mean,axis=0)) - (np.nanmin(Y_mean,axis=0))))    \n",
    "    Y_mean = np.nanmean(Y_anchor,axis=1)\n",
    "    \n",
    "    return Y_anchor,Y_mean\n",
    "\n",
    "plt.plot(Y_anchor)"
   ]
  },
  {
   "cell_type": "code",
   "execution_count": 126,
   "metadata": {},
   "outputs": [
    {
     "data": {
      "text/plain": [
       "array([ 99.33484044,  72.65733663, 111.83129583, 118.3097415 ])"
      ]
     },
     "execution_count": 126,
     "metadata": {},
     "output_type": "execute_result"
    }
   ],
   "source": [
    "Y_mean = np.nanmean(Y_raw,axis=1)\n",
    "mins = np.nanmin(Y_mean,axis=0)\n",
    "mins"
   ]
  },
  {
   "cell_type": "code",
   "execution_count": 89,
   "metadata": {},
   "outputs": [
    {
     "data": {
      "text/plain": [
       "0.730483890468259"
      ]
     },
     "execution_count": 89,
     "metadata": {},
     "output_type": "execute_result"
    }
   ],
   "source": [
    "np.max(Y_mean[:,0])"
   ]
  },
  {
   "cell_type": "code",
   "execution_count": 84,
   "metadata": {},
   "outputs": [
    {
     "ename": "SyntaxError",
     "evalue": "invalid syntax (<ipython-input-84-ffaca2753d0f>, line 6)",
     "output_type": "error",
     "traceback": [
      "\u001b[0;36m  File \u001b[0;32m\"<ipython-input-84-ffaca2753d0f>\"\u001b[0;36m, line \u001b[0;32m6\u001b[0m\n\u001b[0;31m    plt.show()\u001b[0m\n\u001b[0m      ^\u001b[0m\n\u001b[0;31mSyntaxError\u001b[0m\u001b[0;31m:\u001b[0m invalid syntax\n"
     ]
    }
   ],
   "source": [
    "Y_mean = np.nanmean(Y_raw,axis=1) #\"in\" plot for Hb\n",
    "for gene in range(0,n_genes):\n",
    "    Y_anchor,Y_mean = anchormean0to1(Y_raw[:,gene])\n",
    "    plt.plot(x,Y_mean\n",
    "\n",
    "plt.show()\n",
    "\n",
    "\n",
    "for embryo in np.arange(1,n_embryos_used): \n",
    "    plt.plot(x,Y_raw[:,embryo,0],color='grey', linewidth=0.5)\n",
    "plt.plot(x,Y_mean[:,0],color='black')\n",
    "plt.title('Raw Data In')\n",
    "plt.show()\n",
    "\n",
    "\n",
    "#for i in np.arange(1,102): \n",
    "#   plt.plot(Y_anchor[:,i,0],color='grey', linewidth=0.5)\n",
    "   \n",
    "#plt.plot(Y_mean[:,0],color='black')\n",
    "#plt.title('Python out')\n",
    "#plt.show()"
   ]
  },
  {
   "cell_type": "code",
   "execution_count": null,
   "metadata": {},
   "outputs": [],
   "source": []
  }
 ],
 "metadata": {
  "kernelspec": {
   "display_name": "Python 3",
   "language": "python",
   "name": "python3"
  },
  "language_info": {
   "codemirror_mode": {
    "name": "ipython",
    "version": 3
   },
   "file_extension": ".py",
   "mimetype": "text/x-python",
   "name": "python",
   "nbconvert_exporter": "python",
   "pygments_lexer": "ipython3",
   "version": "3.6.4"
  }
 },
 "nbformat": 4,
 "nbformat_minor": 2
}
